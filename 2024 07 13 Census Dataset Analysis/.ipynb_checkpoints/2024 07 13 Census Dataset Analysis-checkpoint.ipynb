{
 "cells": [
  {
   "cell_type": "markdown",
   "id": "6a5d7f5e-f5c1-43e5-8546-9b44700f04c4",
   "metadata": {},
   "source": [
    "# India census 2011 Dataset Analysis\n",
    "\n",
    "* This data is about total Population, Demographics, Literacy, Districts, States, Workers, Religion, Education and Age.\n",
    "* The data used here is from 2011 India Census of each district\n",
    "* Data is available as csv file, originally from Kaggle\n",
    "* Data will be analyzed using the Pandas tool set"
   ]
  },
  {
   "cell_type": "code",
   "execution_count": 6,
   "id": "5ac81660-e92b-45a3-aa1b-3ecbf7f65380",
   "metadata": {},
   "outputs": [
    {
     "data": {
      "text/html": [
       "<div>\n",
       "<style scoped>\n",
       "    .dataframe tbody tr th:only-of-type {\n",
       "        vertical-align: middle;\n",
       "    }\n",
       "\n",
       "    .dataframe tbody tr th {\n",
       "        vertical-align: top;\n",
       "    }\n",
       "\n",
       "    .dataframe thead th {\n",
       "        text-align: right;\n",
       "    }\n",
       "</style>\n",
       "<table border=\"1\" class=\"dataframe\">\n",
       "  <thead>\n",
       "    <tr style=\"text-align: right;\">\n",
       "      <th></th>\n",
       "      <th>District_code</th>\n",
       "      <th>State_name</th>\n",
       "      <th>District_name</th>\n",
       "      <th>Population</th>\n",
       "      <th>Male</th>\n",
       "      <th>Female</th>\n",
       "      <th>Literate</th>\n",
       "      <th>Workers</th>\n",
       "      <th>Male_Workers</th>\n",
       "      <th>Female_Workers</th>\n",
       "      <th>...</th>\n",
       "      <th>Christians</th>\n",
       "      <th>Sikhs</th>\n",
       "      <th>Buddhists</th>\n",
       "      <th>Jains</th>\n",
       "      <th>Secondary_Education</th>\n",
       "      <th>Higher_Education</th>\n",
       "      <th>Graduate_Education</th>\n",
       "      <th>Age_Group_0_29</th>\n",
       "      <th>Age_Group_30_49</th>\n",
       "      <th>Age_Group_50</th>\n",
       "    </tr>\n",
       "  </thead>\n",
       "  <tbody>\n",
       "    <tr>\n",
       "      <th>0</th>\n",
       "      <td>1</td>\n",
       "      <td>JAMMU AND KASHMIR</td>\n",
       "      <td>Kupwara</td>\n",
       "      <td>870354</td>\n",
       "      <td>474190</td>\n",
       "      <td>396164</td>\n",
       "      <td>439654</td>\n",
       "      <td>229064</td>\n",
       "      <td>190899</td>\n",
       "      <td>38165</td>\n",
       "      <td>...</td>\n",
       "      <td>1700</td>\n",
       "      <td>5600</td>\n",
       "      <td>66</td>\n",
       "      <td>39</td>\n",
       "      <td>74948</td>\n",
       "      <td>39709</td>\n",
       "      <td>21751</td>\n",
       "      <td>600759</td>\n",
       "      <td>178435</td>\n",
       "      <td>89679</td>\n",
       "    </tr>\n",
       "    <tr>\n",
       "      <th>1</th>\n",
       "      <td>2</td>\n",
       "      <td>JAMMU AND KASHMIR</td>\n",
       "      <td>Badgam</td>\n",
       "      <td>753745</td>\n",
       "      <td>398041</td>\n",
       "      <td>355704</td>\n",
       "      <td>335649</td>\n",
       "      <td>214866</td>\n",
       "      <td>162578</td>\n",
       "      <td>52288</td>\n",
       "      <td>...</td>\n",
       "      <td>1489</td>\n",
       "      <td>5559</td>\n",
       "      <td>47</td>\n",
       "      <td>6</td>\n",
       "      <td>66459</td>\n",
       "      <td>41367</td>\n",
       "      <td>27950</td>\n",
       "      <td>503223</td>\n",
       "      <td>160933</td>\n",
       "      <td>88978</td>\n",
       "    </tr>\n",
       "    <tr>\n",
       "      <th>2</th>\n",
       "      <td>3</td>\n",
       "      <td>JAMMU AND KASHMIR</td>\n",
       "      <td>Leh(Ladakh)</td>\n",
       "      <td>133487</td>\n",
       "      <td>78971</td>\n",
       "      <td>54516</td>\n",
       "      <td>93770</td>\n",
       "      <td>75079</td>\n",
       "      <td>53265</td>\n",
       "      <td>21814</td>\n",
       "      <td>...</td>\n",
       "      <td>658</td>\n",
       "      <td>1092</td>\n",
       "      <td>88635</td>\n",
       "      <td>103</td>\n",
       "      <td>16265</td>\n",
       "      <td>8923</td>\n",
       "      <td>6197</td>\n",
       "      <td>70703</td>\n",
       "      <td>41515</td>\n",
       "      <td>21019</td>\n",
       "    </tr>\n",
       "    <tr>\n",
       "      <th>3</th>\n",
       "      <td>4</td>\n",
       "      <td>JAMMU AND KASHMIR</td>\n",
       "      <td>Kargil</td>\n",
       "      <td>140802</td>\n",
       "      <td>77785</td>\n",
       "      <td>63017</td>\n",
       "      <td>86236</td>\n",
       "      <td>51873</td>\n",
       "      <td>39839</td>\n",
       "      <td>12034</td>\n",
       "      <td>...</td>\n",
       "      <td>604</td>\n",
       "      <td>1171</td>\n",
       "      <td>20126</td>\n",
       "      <td>28</td>\n",
       "      <td>16938</td>\n",
       "      <td>9826</td>\n",
       "      <td>3077</td>\n",
       "      <td>87532</td>\n",
       "      <td>35561</td>\n",
       "      <td>17488</td>\n",
       "    </tr>\n",
       "    <tr>\n",
       "      <th>4</th>\n",
       "      <td>5</td>\n",
       "      <td>JAMMU AND KASHMIR</td>\n",
       "      <td>Punch</td>\n",
       "      <td>476835</td>\n",
       "      <td>251899</td>\n",
       "      <td>224936</td>\n",
       "      <td>261724</td>\n",
       "      <td>161393</td>\n",
       "      <td>117677</td>\n",
       "      <td>43716</td>\n",
       "      <td>...</td>\n",
       "      <td>958</td>\n",
       "      <td>11188</td>\n",
       "      <td>83</td>\n",
       "      <td>10</td>\n",
       "      <td>46062</td>\n",
       "      <td>29517</td>\n",
       "      <td>13962</td>\n",
       "      <td>304979</td>\n",
       "      <td>109818</td>\n",
       "      <td>61334</td>\n",
       "    </tr>\n",
       "  </tbody>\n",
       "</table>\n",
       "<p>5 rows × 25 columns</p>\n",
       "</div>"
      ],
      "text/plain": [
       "   District_code         State_name District_name  Population    Male  Female  \\\n",
       "0              1  JAMMU AND KASHMIR       Kupwara      870354  474190  396164   \n",
       "1              2  JAMMU AND KASHMIR        Badgam      753745  398041  355704   \n",
       "2              3  JAMMU AND KASHMIR   Leh(Ladakh)      133487   78971   54516   \n",
       "3              4  JAMMU AND KASHMIR        Kargil      140802   77785   63017   \n",
       "4              5  JAMMU AND KASHMIR         Punch      476835  251899  224936   \n",
       "\n",
       "   Literate  Workers  Male_Workers  Female_Workers  ...  Christians  Sikhs  \\\n",
       "0    439654   229064        190899           38165  ...        1700   5600   \n",
       "1    335649   214866        162578           52288  ...        1489   5559   \n",
       "2     93770    75079         53265           21814  ...         658   1092   \n",
       "3     86236    51873         39839           12034  ...         604   1171   \n",
       "4    261724   161393        117677           43716  ...         958  11188   \n",
       "\n",
       "   Buddhists  Jains  Secondary_Education  Higher_Education  \\\n",
       "0         66     39                74948             39709   \n",
       "1         47      6                66459             41367   \n",
       "2      88635    103                16265              8923   \n",
       "3      20126     28                16938              9826   \n",
       "4         83     10                46062             29517   \n",
       "\n",
       "   Graduate_Education  Age_Group_0_29  Age_Group_30_49  Age_Group_50  \n",
       "0               21751          600759           178435         89679  \n",
       "1               27950          503223           160933         88978  \n",
       "2                6197           70703            41515         21019  \n",
       "3                3077           87532            35561         17488  \n",
       "4               13962          304979           109818         61334  \n",
       "\n",
       "[5 rows x 25 columns]"
      ]
     },
     "execution_count": 6,
     "metadata": {},
     "output_type": "execute_result"
    }
   ],
   "source": [
    "import pandas as pd\n",
    "data = pd.read_csv(r'.\\file.csv')\n",
    "data.head(5)"
   ]
  },
  {
   "cell_type": "code",
   "execution_count": 8,
   "id": "5b2cbf4f-a397-4661-9b0b-37a6caad30e8",
   "metadata": {},
   "outputs": [
    {
     "data": {
      "text/plain": [
       "(640, 25)"
      ]
     },
     "execution_count": 8,
     "metadata": {},
     "output_type": "execute_result"
    }
   ],
   "source": [
    "data.shape"
   ]
  },
  {
   "cell_type": "code",
   "execution_count": 20,
   "id": "fc69ddfb-485d-4ab7-ba2c-73aa70afc24d",
   "metadata": {},
   "outputs": [
    {
     "data": {
      "text/plain": [
       "District_code    640\n",
       "State_name       640\n",
       "District_name    640\n",
       "Population       640\n",
       "Male             640\n",
       "dtype: int64"
      ]
     },
     "execution_count": 20,
     "metadata": {},
     "output_type": "execute_result"
    }
   ],
   "source": [
    "data.count().head(5) #no hint of null value issues, abrievated for space"
   ]
  },
  {
   "cell_type": "code",
   "execution_count": 14,
   "id": "310e11aa-1bec-4c82-80ca-d4cec099b076",
   "metadata": {},
   "outputs": [
    {
     "data": {
      "text/plain": [
       "District_code           0\n",
       "State_name              0\n",
       "District_name           0\n",
       "Population              0\n",
       "Male                    0\n",
       "Female                  0\n",
       "Literate                0\n",
       "Workers                 0\n",
       "Male_Workers            0\n",
       "Female_Workers          0\n",
       "Cultivator_Workers      0\n",
       "Agricultural_Workers    0\n",
       "Household_Workers       0\n",
       "Hindus                  0\n",
       "Muslims                 0\n",
       "Christians              0\n",
       "Sikhs                   0\n",
       "Buddhists               0\n",
       "Jains                   0\n",
       "Secondary_Education     0\n",
       "Higher_Education        0\n",
       "Graduate_Education      0\n",
       "Age_Group_0_29          0\n",
       "Age_Group_30_49         0\n",
       "Age_Group_50            0\n",
       "dtype: int64"
      ]
     },
     "execution_count": 14,
     "metadata": {},
     "output_type": "execute_result"
    }
   ],
   "source": [
    "data.isnull().sum() #confirmed no null values"
   ]
  },
  {
   "cell_type": "code",
   "execution_count": 22,
   "id": "c872cde5-2b28-414d-ac26-21e7673524f1",
   "metadata": {},
   "outputs": [
    {
     "data": {
      "text/plain": [
       "District_code            int64\n",
       "State_name              object\n",
       "District_name           object\n",
       "Population               int64\n",
       "Male                     int64\n",
       "Female                   int64\n",
       "Literate                 int64\n",
       "Workers                  int64\n",
       "Male_Workers             int64\n",
       "Female_Workers           int64\n",
       "Cultivator_Workers       int64\n",
       "Agricultural_Workers     int64\n",
       "Household_Workers        int64\n",
       "Hindus                   int64\n",
       "Muslims                  int64\n",
       "Christians               int64\n",
       "Sikhs                    int64\n",
       "Buddhists                int64\n",
       "Jains                    int64\n",
       "Secondary_Education      int64\n",
       "Higher_Education         int64\n",
       "Graduate_Education       int64\n",
       "Age_Group_0_29           int64\n",
       "Age_Group_30_49          int64\n",
       "Age_Group_50             int64\n",
       "dtype: object"
      ]
     },
     "execution_count": 22,
     "metadata": {},
     "output_type": "execute_result"
    }
   ],
   "source": [
    "data.dtypes"
   ]
  }
 ],
 "metadata": {
  "kernelspec": {
   "display_name": "Python 3 (ipykernel)",
   "language": "python",
   "name": "python3"
  },
  "language_info": {
   "codemirror_mode": {
    "name": "ipython",
    "version": 3
   },
   "file_extension": ".py",
   "mimetype": "text/x-python",
   "name": "python",
   "nbconvert_exporter": "python",
   "pygments_lexer": "ipython3",
   "version": "3.12.4"
  }
 },
 "nbformat": 4,
 "nbformat_minor": 5
}
