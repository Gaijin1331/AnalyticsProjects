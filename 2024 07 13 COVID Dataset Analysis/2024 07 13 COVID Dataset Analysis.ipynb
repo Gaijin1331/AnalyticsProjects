{
 "cells": [
  {
   "cell_type": "markdown",
   "id": "573a9176-fa8d-4d41-86a3-822d8f057341",
   "metadata": {},
   "source": [
    "# COVID-19 Small Dataset Analysis\n",
    "We have taken a small dataset of COVID-19, just for study purposes. Original dataset contains approx 19,000 rows\n",
    "The data used here is until Apr 29, 2020\n",
    "Data is available as csv file, originally from Kaggle\n",
    "Exercise will use Pandas library"
   ]
  },
  {
   "cell_type": "code",
   "execution_count": 3,
   "id": "6616ed3b-5e8a-4d87-88e7-8bc2b3f8c4d3",
   "metadata": {},
   "outputs": [
    {
     "data": {
      "text/html": [
       "<div>\n",
       "<style scoped>\n",
       "    .dataframe tbody tr th:only-of-type {\n",
       "        vertical-align: middle;\n",
       "    }\n",
       "\n",
       "    .dataframe tbody tr th {\n",
       "        vertical-align: top;\n",
       "    }\n",
       "\n",
       "    .dataframe thead th {\n",
       "        text-align: right;\n",
       "    }\n",
       "</style>\n",
       "<table border=\"1\" class=\"dataframe\">\n",
       "  <thead>\n",
       "    <tr style=\"text-align: right;\">\n",
       "      <th></th>\n",
       "      <th>Date</th>\n",
       "      <th>State</th>\n",
       "      <th>Region</th>\n",
       "      <th>Confirmed</th>\n",
       "      <th>Deaths</th>\n",
       "      <th>Recovered</th>\n",
       "    </tr>\n",
       "  </thead>\n",
       "  <tbody>\n",
       "    <tr>\n",
       "      <th>0</th>\n",
       "      <td>4/29/2020</td>\n",
       "      <td>NaN</td>\n",
       "      <td>Afghanistan</td>\n",
       "      <td>1939</td>\n",
       "      <td>60</td>\n",
       "      <td>252</td>\n",
       "    </tr>\n",
       "    <tr>\n",
       "      <th>1</th>\n",
       "      <td>4/29/2020</td>\n",
       "      <td>NaN</td>\n",
       "      <td>Albania</td>\n",
       "      <td>766</td>\n",
       "      <td>30</td>\n",
       "      <td>455</td>\n",
       "    </tr>\n",
       "    <tr>\n",
       "      <th>2</th>\n",
       "      <td>4/29/2020</td>\n",
       "      <td>NaN</td>\n",
       "      <td>Algeria</td>\n",
       "      <td>3848</td>\n",
       "      <td>444</td>\n",
       "      <td>1702</td>\n",
       "    </tr>\n",
       "    <tr>\n",
       "      <th>3</th>\n",
       "      <td>4/29/2020</td>\n",
       "      <td>NaN</td>\n",
       "      <td>Andorra</td>\n",
       "      <td>743</td>\n",
       "      <td>42</td>\n",
       "      <td>423</td>\n",
       "    </tr>\n",
       "    <tr>\n",
       "      <th>4</th>\n",
       "      <td>4/29/2020</td>\n",
       "      <td>NaN</td>\n",
       "      <td>Angola</td>\n",
       "      <td>27</td>\n",
       "      <td>2</td>\n",
       "      <td>7</td>\n",
       "    </tr>\n",
       "  </tbody>\n",
       "</table>\n",
       "</div>"
      ],
      "text/plain": [
       "        Date State       Region  Confirmed  Deaths  Recovered\n",
       "0  4/29/2020   NaN  Afghanistan       1939      60        252\n",
       "1  4/29/2020   NaN      Albania        766      30        455\n",
       "2  4/29/2020   NaN      Algeria       3848     444       1702\n",
       "3  4/29/2020   NaN      Andorra        743      42        423\n",
       "4  4/29/2020   NaN       Angola         27       2          7"
      ]
     },
     "execution_count": 3,
     "metadata": {},
     "output_type": "execute_result"
    }
   ],
   "source": [
    "import pandas as pd\n",
    "data = pd.read_csv(r'.\\file.csv')\n",
    "data.head()"
   ]
  }
 ],
 "metadata": {
  "kernelspec": {
   "display_name": "Python 3 (ipykernel)",
   "language": "python",
   "name": "python3"
  },
  "language_info": {
   "codemirror_mode": {
    "name": "ipython",
    "version": 3
   },
   "file_extension": ".py",
   "mimetype": "text/x-python",
   "name": "python",
   "nbconvert_exporter": "python",
   "pygments_lexer": "ipython3",
   "version": "3.12.4"
  }
 },
 "nbformat": 4,
 "nbformat_minor": 5
}
